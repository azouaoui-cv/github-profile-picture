{
 "cells": [
  {
   "cell_type": "markdown",
   "metadata": {},
   "source": [
    "# Scrapbook\n",
    "\n",
    "In this notebook we investigate how to build a working pipeline.\n",
    "\n",
    "It needs the following elements:\n",
    "\n",
    "* Scrap the GitHub page of the provided username\n",
    "* Select the relevant UI elements\n",
    "* Compute the color distribution\n",
    "* Create a blank image\n",
    "* Randomly create a GitHub looking logo based on the distribution\n",
    "* Save picture if satisfied"
   ]
  },
  {
   "cell_type": "markdown",
   "metadata": {},
   "source": [
    "## Imports"
   ]
  },
  {
   "cell_type": "code",
   "execution_count": 1,
   "metadata": {},
   "outputs": [],
   "source": [
    "from bs4 import BeautifulSoup\n",
    "import requests\n",
    "import numpy as np\n",
    "import matplotlib.pyplot as plt"
   ]
  },
  {
   "cell_type": "markdown",
   "metadata": {},
   "source": [
    "## Scrap the GitHub page of the provided username"
   ]
  },
  {
   "cell_type": "code",
   "execution_count": 2,
   "metadata": {},
   "outputs": [],
   "source": [
    "username = \"inzouzouwetrust\"\n",
    "username = \"agramfort\""
   ]
  },
  {
   "cell_type": "code",
   "execution_count": 3,
   "metadata": {},
   "outputs": [],
   "source": [
    "def get_user_data(username):\n",
    "    url = f\"https://github.com/{username}\"\n",
    "    request = requests.get(url)\n",
    "    if request.status_code != 200:\n",
    "        raise ValueError(f\"Invalid user name: {username}\")\n",
    "    data = request.text\n",
    "    return data"
   ]
  },
  {
   "cell_type": "code",
   "execution_count": 4,
   "metadata": {},
   "outputs": [],
   "source": [
    "data = get_user_data(username)"
   ]
  },
  {
   "cell_type": "markdown",
   "metadata": {},
   "source": [
    "## Select the relevant HTML elements"
   ]
  },
  {
   "cell_type": "code",
   "execution_count": 5,
   "metadata": {},
   "outputs": [],
   "source": [
    "def get_fill_values(data):\n",
    "    soup = BeautifulSoup(data, features=\"lxml\")\n",
    "    days = soup.find_all(\"rect\")\n",
    "    fill_values = [d[\"fill\"] for d in days]\n",
    "    return fill_values"
   ]
  },
  {
   "cell_type": "code",
   "execution_count": 6,
   "metadata": {},
   "outputs": [],
   "source": [
    "values = get_fill_values(data)"
   ]
  },
  {
   "cell_type": "markdown",
   "metadata": {},
   "source": [
    "## Compute the color distribution"
   ]
  },
  {
   "cell_type": "code",
   "execution_count": 8,
   "metadata": {},
   "outputs": [],
   "source": [
    "colors, counts = np.unique(values, return_counts=True)"
   ]
  },
  {
   "cell_type": "code",
   "execution_count": 9,
   "metadata": {},
   "outputs": [
    {
     "data": {
      "text/plain": [
       "(array(['#196127', '#239a3b', '#7bc96f', '#c6e48b', '#ebedf0'], dtype='<U7'),\n",
       " array([  8,  12,  48, 239,  64]))"
      ]
     },
     "execution_count": 9,
     "metadata": {},
     "output_type": "execute_result"
    }
   ],
   "source": [
    "colors, counts"
   ]
  },
  {
   "cell_type": "code",
   "execution_count": 10,
   "metadata": {},
   "outputs": [],
   "source": [
    "COLORS_STR_2_RGB = {'#196127': [25, 97, 39],\n",
    "          '#239a3b': [35, 154, 59],\n",
    "          '#7bc96f': [123, 201, 111],\n",
    "          '#c6e48b': [198, 228, 139],\n",
    "          '#ebedf0': [235, 237, 240]}\n",
    "\n",
    "assert set(COLORS_STR_2_RGB.keys()) == set(colors)"
   ]
  },
  {
   "cell_type": "markdown",
   "metadata": {},
   "source": [
    "## Create the logo image"
   ]
  },
  {
   "cell_type": "code",
   "execution_count": 11,
   "metadata": {},
   "outputs": [],
   "source": [
    "def create_logo(margin=20, block=50):\n",
    "    \"\"\"\n",
    "    Create random GitHub logo\n",
    "    \"\"\"\n",
    "    side = 2 * margin + 5 * block\n",
    "    \n",
    "    img = np.zeros((side, side, 3), dtype='uint8')\n",
    "    # Fill image with light gray\n",
    "    img[:, :] = COLORS_STR_2_RGB['#ebedf0']\n",
    "    # Draw colors based on contributions distribution\n",
    "    choices = np.random.choice(colors, size=15, replace=True, p=counts / sum(counts))\n",
    "    # Populate empty image\n",
    "    counter = 0\n",
    "    try:\n",
    "        for i in range(margin, side - block, block):\n",
    "            for j in range(margin, side - block, block):\n",
    "                img[j:j+block,i:i+block] = COLORS_STR_2_RGB[choices[counter]]\n",
    "                counter += 1\n",
    "    except:\n",
    "        pass\n",
    "    \n",
    "    # Induce symmetry\n",
    "    img[:,side//2:] = img[:,:side//2][:,::-1]\n",
    "    \n",
    "    return img"
   ]
  },
  {
   "cell_type": "code",
   "execution_count": 12,
   "metadata": {},
   "outputs": [
    {
     "data": {
      "image/png": "[encoded data removed]",
      "text/plain": [
       "<Figure size 432x288 with 1 Axes>"
      ]
     },
     "metadata": {
      "needs_background": "light"
     },
     "output_type": "display_data"
    }
   ],
   "source": [
    "img = create_logo()\n",
    "plt.imshow(img)\n",
    "plt.axis(\"off\");"
   ]
  }
 ],
 "metadata": {
  "kernelspec": {
   "display_name": "p37",
   "language": "python",
   "name": "p37"
  },
  "language_info": {
   "codemirror_mode": {
    "name": "ipython",
    "version": 3
   },
   "file_extension": ".py",
   "mimetype": "text/x-python",
   "name": "python",
   "nbconvert_exporter": "python",
   "pygments_lexer": "ipython3",
   "version": "3.7.1"
  }
 },
 "nbformat": 4,
 "nbformat_minor": 4
}
